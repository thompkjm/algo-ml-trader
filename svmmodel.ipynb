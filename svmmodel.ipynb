{
 "cells": [
  {
   "cell_type": "code",
   "execution_count": 1,
   "outputs": [],
   "source": [
    "import pandas as pd\n",
    "import numpy as np\n",
    "from sklearn import svm\n",
    "from sklearn.preprocessing import StandardScaler\n",
    "from sklearn.metrics import classification_report\n",
    "import warnings\n",
    "warnings.filterwarnings('ignore')"
   ],
   "metadata": {
    "collapsed": false,
    "pycharm": {
     "name": "#%%\n"
    }
   }
  },
  {
   "cell_type": "code",
   "execution_count": 2,
   "outputs": [
    {
     "data": {
      "text/plain": "                     Last Price_all  short_window_all  long_window_all  \\\nDate_all                                                                 \n2022-05-05 20:00:00          1.0543            1.0543         1.054267   \n2022-05-05 20:30:00          1.0541            1.0541         1.054250   \n2022-05-05 23:00:00          1.0535            1.0535         1.053167   \n2022-05-06 00:00:00          1.0528            1.0528         1.052967   \n2022-05-06 00:30:00          1.0532            1.0532         1.053067   \n...                             ...               ...              ...   \n2022-09-27 14:30:00          0.9599            0.9599         0.958667   \n2022-09-27 18:00:00          0.9588            0.9588         0.959333   \n2022-09-27 19:30:00          0.9596            0.9596         0.959150   \n2022-09-27 20:30:00          0.9572            0.9572         0.958700   \n2022-09-27 23:00:00          0.9563            0.9563         0.955950   \n\n                     signal_all  best_pnl_all        entrydiff  \\\nDate_all                                                         \n2022-05-05 20:00:00         1.0       -0.0002  0 days 00:00:00   \n2022-05-05 20:30:00        -1.0        0.0015  0 days 00:30:00   \n2022-05-05 23:00:00         1.0       -0.0002  0 days 00:00:00   \n2022-05-06 00:00:00        -1.0       -0.0004  0 days 00:00:00   \n2022-05-06 00:30:00         1.0        0.0002  0 days 00:30:00   \n...                         ...           ...              ...   \n2022-09-27 14:30:00         1.0       -0.0003  0 days 00:00:00   \n2022-09-27 18:00:00        -1.0        0.0003  0 days 00:30:00   \n2022-09-27 19:30:00         1.0       -0.0003  0 days 00:00:00   \n2022-09-27 20:30:00        -1.0        0.0022  0 days 00:30:00   \n2022-09-27 23:00:00         1.0        0.0000  0 days 00:00:00   \n\n                            exitdiff  Profit  bestentry  bestexit  \nDate_all                                                           \n2022-05-05 20:00:00  0 days 00:00:00     NaN        0.0       0.0  \n2022-05-05 20:30:00  0 days 01:00:00  0.0006        1.0       2.0  \n2022-05-05 23:00:00  0 days 00:00:00     NaN        0.0       0.0  \n2022-05-06 00:00:00  0 days 00:00:00     NaN        0.0       0.0  \n2022-05-06 00:30:00  0 days 00:30:00     NaN        1.0       1.0  \n...                              ...     ...        ...       ...  \n2022-09-27 14:30:00  0 days 00:00:00     NaN        0.0       0.0  \n2022-09-27 18:00:00  0 days 01:00:00  0.0003        1.0       2.0  \n2022-09-27 19:30:00  0 days 00:00:00     NaN        0.0       0.0  \n2022-09-27 20:30:00  0 days 02:00:00  0.0010        1.0       4.0  \n2022-09-27 23:00:00  0 days 00:00:00  0.0000        0.0       0.0  \n\n[1189 rows x 10 columns]",
      "text/html": "<div>\n<style scoped>\n    .dataframe tbody tr th:only-of-type {\n        vertical-align: middle;\n    }\n\n    .dataframe tbody tr th {\n        vertical-align: top;\n    }\n\n    .dataframe thead th {\n        text-align: right;\n    }\n</style>\n<table border=\"1\" class=\"dataframe\">\n  <thead>\n    <tr style=\"text-align: right;\">\n      <th></th>\n      <th>Last Price_all</th>\n      <th>short_window_all</th>\n      <th>long_window_all</th>\n      <th>signal_all</th>\n      <th>best_pnl_all</th>\n      <th>entrydiff</th>\n      <th>exitdiff</th>\n      <th>Profit</th>\n      <th>bestentry</th>\n      <th>bestexit</th>\n    </tr>\n    <tr>\n      <th>Date_all</th>\n      <th></th>\n      <th></th>\n      <th></th>\n      <th></th>\n      <th></th>\n      <th></th>\n      <th></th>\n      <th></th>\n      <th></th>\n      <th></th>\n    </tr>\n  </thead>\n  <tbody>\n    <tr>\n      <th>2022-05-05 20:00:00</th>\n      <td>1.0543</td>\n      <td>1.0543</td>\n      <td>1.054267</td>\n      <td>1.0</td>\n      <td>-0.0002</td>\n      <td>0 days 00:00:00</td>\n      <td>0 days 00:00:00</td>\n      <td>NaN</td>\n      <td>0.0</td>\n      <td>0.0</td>\n    </tr>\n    <tr>\n      <th>2022-05-05 20:30:00</th>\n      <td>1.0541</td>\n      <td>1.0541</td>\n      <td>1.054250</td>\n      <td>-1.0</td>\n      <td>0.0015</td>\n      <td>0 days 00:30:00</td>\n      <td>0 days 01:00:00</td>\n      <td>0.0006</td>\n      <td>1.0</td>\n      <td>2.0</td>\n    </tr>\n    <tr>\n      <th>2022-05-05 23:00:00</th>\n      <td>1.0535</td>\n      <td>1.0535</td>\n      <td>1.053167</td>\n      <td>1.0</td>\n      <td>-0.0002</td>\n      <td>0 days 00:00:00</td>\n      <td>0 days 00:00:00</td>\n      <td>NaN</td>\n      <td>0.0</td>\n      <td>0.0</td>\n    </tr>\n    <tr>\n      <th>2022-05-06 00:00:00</th>\n      <td>1.0528</td>\n      <td>1.0528</td>\n      <td>1.052967</td>\n      <td>-1.0</td>\n      <td>-0.0004</td>\n      <td>0 days 00:00:00</td>\n      <td>0 days 00:00:00</td>\n      <td>NaN</td>\n      <td>0.0</td>\n      <td>0.0</td>\n    </tr>\n    <tr>\n      <th>2022-05-06 00:30:00</th>\n      <td>1.0532</td>\n      <td>1.0532</td>\n      <td>1.053067</td>\n      <td>1.0</td>\n      <td>0.0002</td>\n      <td>0 days 00:30:00</td>\n      <td>0 days 00:30:00</td>\n      <td>NaN</td>\n      <td>1.0</td>\n      <td>1.0</td>\n    </tr>\n    <tr>\n      <th>...</th>\n      <td>...</td>\n      <td>...</td>\n      <td>...</td>\n      <td>...</td>\n      <td>...</td>\n      <td>...</td>\n      <td>...</td>\n      <td>...</td>\n      <td>...</td>\n      <td>...</td>\n    </tr>\n    <tr>\n      <th>2022-09-27 14:30:00</th>\n      <td>0.9599</td>\n      <td>0.9599</td>\n      <td>0.958667</td>\n      <td>1.0</td>\n      <td>-0.0003</td>\n      <td>0 days 00:00:00</td>\n      <td>0 days 00:00:00</td>\n      <td>NaN</td>\n      <td>0.0</td>\n      <td>0.0</td>\n    </tr>\n    <tr>\n      <th>2022-09-27 18:00:00</th>\n      <td>0.9588</td>\n      <td>0.9588</td>\n      <td>0.959333</td>\n      <td>-1.0</td>\n      <td>0.0003</td>\n      <td>0 days 00:30:00</td>\n      <td>0 days 01:00:00</td>\n      <td>0.0003</td>\n      <td>1.0</td>\n      <td>2.0</td>\n    </tr>\n    <tr>\n      <th>2022-09-27 19:30:00</th>\n      <td>0.9596</td>\n      <td>0.9596</td>\n      <td>0.959150</td>\n      <td>1.0</td>\n      <td>-0.0003</td>\n      <td>0 days 00:00:00</td>\n      <td>0 days 00:00:00</td>\n      <td>NaN</td>\n      <td>0.0</td>\n      <td>0.0</td>\n    </tr>\n    <tr>\n      <th>2022-09-27 20:30:00</th>\n      <td>0.9572</td>\n      <td>0.9572</td>\n      <td>0.958700</td>\n      <td>-1.0</td>\n      <td>0.0022</td>\n      <td>0 days 00:30:00</td>\n      <td>0 days 02:00:00</td>\n      <td>0.0010</td>\n      <td>1.0</td>\n      <td>4.0</td>\n    </tr>\n    <tr>\n      <th>2022-09-27 23:00:00</th>\n      <td>0.9563</td>\n      <td>0.9563</td>\n      <td>0.955950</td>\n      <td>1.0</td>\n      <td>0.0000</td>\n      <td>0 days 00:00:00</td>\n      <td>0 days 00:00:00</td>\n      <td>0.0000</td>\n      <td>0.0</td>\n      <td>0.0</td>\n    </tr>\n  </tbody>\n</table>\n<p>1189 rows × 10 columns</p>\n</div>"
     },
     "execution_count": 2,
     "metadata": {},
     "output_type": "execute_result"
    }
   ],
   "source": [
    "data = pd.read_csv('modeldata.csv',index_col='Date_all',parse_dates=True)\n",
    "data['bestentry']=data['entrydiff']/np.timedelta64(30, 'm')\n",
    "data['bestexit']=data['exitdiff']/np.timedelta64(30, 'm')\n",
    "data"
   ],
   "metadata": {
    "collapsed": false,
    "pycharm": {
     "name": "#%%\n"
    }
   }
  },
  {
   "cell_type": "code",
   "execution_count": 3,
   "outputs": [
    {
     "data": {
      "text/plain": "array(['0 days 00:30:00', '0 days 00:30:00', '0 days 00:30:00',\n       '0 days 00:30:00', '0 days 00:30:00', '0 days 00:30:00',\n       '0 days 00:30:00', '0 days 00:30:00', '0 days 00:30:00',\n       '0 days 00:30:00', '0 days 00:30:00', '0 days 00:30:00',\n       '0 days 00:30:00', '0 days 00:30:00', '0 days 00:30:00',\n       '0 days 00:30:00', '0 days 00:30:00', '0 days 00:30:00',\n       '0 days 00:30:00', '0 days 00:30:00', '0 days 00:30:00',\n       '0 days 00:30:00', '0 days 00:30:00', '0 days 00:30:00',\n       '0 days 00:30:00', '0 days 00:30:00', '0 days 00:30:00',\n       '0 days 00:30:00', '0 days 00:30:00', '0 days 00:30:00',\n       '0 days 00:30:00', '0 days 00:30:00', '0 days 00:30:00',\n       '0 days 00:30:00', '0 days 00:30:00', '0 days 00:30:00',\n       '0 days 00:30:00', '0 days 00:30:00', '0 days 00:30:00',\n       '0 days 00:30:00', '0 days 00:30:00', '0 days 00:30:00',\n       '0 days 00:30:00', '0 days 00:30:00', '0 days 00:30:00',\n       '0 days 00:30:00', '0 days 00:30:00', '0 days 00:30:00',\n       '0 days 00:30:00', '0 days 00:30:00', '0 days 00:30:00',\n       '0 days 00:30:00', '0 days 00:30:00', '0 days 00:30:00',\n       '0 days 00:30:00', '0 days 00:30:00', '0 days 00:30:00',\n       '0 days 00:30:00', '0 days 00:30:00', '0 days 00:30:00',\n       '0 days 00:30:00', '0 days 00:30:00', '0 days 00:30:00',\n       '0 days 00:30:00', '0 days 00:30:00', '0 days 00:30:00',\n       '0 days 00:30:00', '0 days 00:30:00', '0 days 00:30:00',\n       '0 days 00:30:00', '0 days 00:30:00', '0 days 00:30:00',\n       '0 days 00:30:00', '0 days 00:30:00', '0 days 00:30:00',\n       '0 days 00:30:00', '0 days 00:30:00', '0 days 00:30:00',\n       '0 days 00:30:00', '0 days 00:30:00', '0 days 00:30:00',\n       '0 days 00:30:00', '0 days 00:30:00', '0 days 00:30:00',\n       '0 days 00:30:00', '0 days 00:30:00', '0 days 00:30:00',\n       '0 days 00:30:00', '0 days 00:30:00', '0 days 00:30:00',\n       '0 days 00:30:00', '0 days 00:30:00', '0 days 00:30:00',\n       '0 days 00:30:00', '0 days 00:30:00', '0 days 00:30:00',\n       '0 days 00:30:00', '0 days 00:30:00', '0 days 00:30:00',\n       '0 days 00:30:00', '0 days 00:30:00', '0 days 00:30:00',\n       '0 days 00:30:00', '0 days 00:30:00', '0 days 00:30:00',\n       '0 days 00:30:00', '0 days 00:30:00', '0 days 00:30:00',\n       '0 days 00:30:00', '0 days 00:30:00', '0 days 00:30:00',\n       '0 days 00:30:00', '0 days 00:30:00', '0 days 00:30:00',\n       '0 days 00:30:00', '0 days 00:30:00', '0 days 00:30:00',\n       '0 days 00:30:00', '0 days 00:30:00', '0 days 00:30:00',\n       '0 days 00:30:00', '0 days 00:30:00', '0 days 00:30:00',\n       '0 days 00:30:00', '0 days 00:30:00', '0 days 00:30:00',\n       '0 days 00:30:00', '0 days 00:30:00', '0 days 00:30:00',\n       '0 days 00:30:00', '0 days 00:30:00', '0 days 00:30:00',\n       '0 days 00:30:00', '0 days 00:30:00', '0 days 00:30:00',\n       '0 days 00:30:00', '0 days 00:30:00', '0 days 00:30:00',\n       '0 days 00:30:00', '0 days 00:30:00', '0 days 00:30:00',\n       '0 days 00:30:00', '0 days 00:30:00', '0 days 00:30:00',\n       '0 days 00:30:00', '0 days 00:30:00', '0 days 00:30:00',\n       '0 days 00:30:00', '0 days 00:30:00', '0 days 00:30:00',\n       '0 days 00:30:00', '0 days 00:30:00', '0 days 00:30:00',\n       '0 days 00:30:00', '0 days 00:30:00', '0 days 00:30:00',\n       '0 days 00:30:00', '0 days 00:30:00', '0 days 00:30:00',\n       '0 days 00:30:00', '0 days 00:30:00', '0 days 00:30:00',\n       '0 days 00:30:00', '0 days 00:30:00', '0 days 00:30:00',\n       '0 days 00:30:00', '0 days 00:30:00', '0 days 00:30:00',\n       '0 days 00:30:00', '0 days 00:30:00', '0 days 00:30:00',\n       '0 days 00:30:00', '0 days 00:30:00', '0 days 00:30:00',\n       '0 days 00:30:00', '0 days 00:30:00', '0 days 00:30:00',\n       '0 days 00:30:00', '0 days 00:30:00', '0 days 00:30:00',\n       '0 days 00:30:00', '0 days 00:30:00', '0 days 00:30:00',\n       '0 days 00:30:00', '0 days 00:30:00', '0 days 00:30:00',\n       '0 days 00:30:00', '0 days 00:30:00', '0 days 00:30:00'],\n      dtype=object)"
     },
     "execution_count": 3,
     "metadata": {},
     "output_type": "execute_result"
    }
   ],
   "source": [
    "## Best Entry Model\n",
    "bestentryX=data[['Last Price_all','short_window_all','long_window_all']]\n",
    "bestentryy = data['entrydiff']\n",
    "\n",
    "# Generate the X_train and y_train DataFrames\n",
    "bestentryX_train = bestentryX[:1000]\n",
    "bestentryy_train = bestentryy[:1000]\n",
    "\n",
    "# Generate the X_test and y_test DataFrames\n",
    "bestentryX_test = bestentryX[1000:]\n",
    "bestentryy_test = bestentryy[1000:]\n",
    "\n",
    "# Create a StandardScaler instance\n",
    "scaler = StandardScaler()\n",
    "\n",
    "# Apply the scaler model to fit the X-train data\n",
    "bestentryX_scaler = scaler.fit(bestentryX_train)\n",
    "\n",
    "# Transform the X_train and X_test DataFrames using the X_scaler\n",
    "bestentryX_train_scaled = bestentryX_scaler.transform(bestentryX_train)\n",
    "bestentryX_test_scaled = bestentryX_scaler.transform(bestentryX_test)\n",
    "\n",
    "bestentrysvm_model = svm.SVC()\n",
    "\n",
    "# Fit the model to the data using the training data\n",
    "bestentrysvm_model = bestentrysvm_model.fit(bestentryX_train_scaled, bestentryy_train)\n",
    "\n",
    "# Use the testing data to make the model predictions\n",
    "bestentrysvm_pred = bestentrysvm_model.predict(bestentryX_test_scaled)\n",
    "\n",
    "# Review the model's predicted values\n",
    "bestentrysvm_pred"
   ],
   "metadata": {
    "collapsed": false,
    "pycharm": {
     "name": "#%%\n"
    }
   }
  },
  {
   "cell_type": "code",
   "execution_count": 4,
   "outputs": [
    {
     "name": "stdout",
     "output_type": "stream",
     "text": [
      "                 precision    recall  f1-score   support\n",
      "\n",
      "0 days 00:00:00       0.00      0.00      0.00        70\n",
      "0 days 00:30:00       0.51      1.00      0.68        97\n",
      "0 days 01:00:00       0.00      0.00      0.00        16\n",
      "0 days 01:30:00       0.00      0.00      0.00         4\n",
      "0 days 02:00:00       0.00      0.00      0.00         2\n",
      "\n",
      "       accuracy                           0.51       189\n",
      "      macro avg       0.10      0.20      0.14       189\n",
      "   weighted avg       0.26      0.51      0.35       189\n",
      "\n"
     ]
    }
   ],
   "source": [
    "bestentrysvm_testing_report = classification_report(bestentryy_test, bestentrysvm_pred)\n",
    "print(bestentrysvm_testing_report) ## Classification report for best entry"
   ],
   "metadata": {
    "collapsed": false,
    "pycharm": {
     "name": "#%%\n"
    }
   }
  },
  {
   "cell_type": "code",
   "execution_count": 5,
   "outputs": [
    {
     "data": {
      "text/plain": "array(['0 days 00:00:00', '0 days 00:00:00', '0 days 00:00:00',\n       '0 days 00:00:00', '0 days 00:00:00', '0 days 00:00:00',\n       '0 days 00:00:00', '0 days 00:00:00', '0 days 00:00:00',\n       '0 days 00:00:00', '0 days 00:00:00', '0 days 00:00:00',\n       '0 days 00:00:00', '0 days 00:00:00', '0 days 00:00:00',\n       '0 days 00:00:00', '0 days 00:00:00', '0 days 00:00:00',\n       '0 days 00:00:00', '0 days 00:00:00', '0 days 00:00:00',\n       '0 days 00:00:00', '0 days 00:00:00', '0 days 00:00:00',\n       '0 days 00:00:00', '0 days 00:00:00', '0 days 00:00:00',\n       '0 days 00:00:00', '0 days 00:00:00', '0 days 00:00:00',\n       '0 days 00:00:00', '0 days 00:00:00', '0 days 00:00:00',\n       '0 days 00:00:00', '0 days 00:00:00', '0 days 00:00:00',\n       '0 days 00:00:00', '0 days 00:00:00', '0 days 00:00:00',\n       '0 days 00:00:00', '0 days 00:00:00', '0 days 00:00:00',\n       '0 days 00:00:00', '0 days 00:00:00', '0 days 00:00:00',\n       '0 days 00:00:00', '0 days 00:00:00', '0 days 00:00:00',\n       '0 days 00:00:00', '0 days 00:00:00', '0 days 00:00:00',\n       '0 days 00:00:00', '0 days 00:00:00', '0 days 00:00:00',\n       '0 days 00:00:00', '0 days 00:00:00', '0 days 00:00:00',\n       '0 days 00:00:00', '0 days 00:00:00', '0 days 00:00:00',\n       '0 days 00:00:00', '0 days 00:00:00', '0 days 00:00:00',\n       '0 days 00:00:00', '0 days 00:00:00', '0 days 00:00:00',\n       '0 days 00:00:00', '0 days 00:00:00', '0 days 00:00:00',\n       '0 days 00:00:00', '0 days 00:00:00', '0 days 00:00:00',\n       '0 days 00:00:00', '0 days 00:00:00', '0 days 00:00:00',\n       '0 days 00:00:00', '0 days 00:00:00', '0 days 00:00:00',\n       '0 days 00:00:00', '0 days 00:00:00', '0 days 00:00:00',\n       '0 days 00:00:00', '0 days 00:00:00', '0 days 00:00:00',\n       '0 days 00:00:00', '0 days 00:00:00', '0 days 00:00:00',\n       '0 days 00:00:00', '0 days 00:00:00', '0 days 00:00:00',\n       '0 days 00:00:00', '0 days 00:00:00', '0 days 00:00:00',\n       '0 days 00:00:00', '0 days 00:00:00', '0 days 00:00:00',\n       '0 days 00:00:00', '0 days 00:00:00', '0 days 00:00:00',\n       '0 days 00:00:00', '0 days 00:00:00', '0 days 00:00:00',\n       '0 days 00:00:00', '0 days 00:00:00', '0 days 00:00:00',\n       '0 days 00:00:00', '0 days 00:00:00', '0 days 00:00:00',\n       '0 days 00:00:00', '0 days 00:00:00', '0 days 00:00:00',\n       '0 days 00:00:00', '0 days 00:00:00', '0 days 00:00:00',\n       '0 days 00:00:00', '0 days 00:00:00', '0 days 00:00:00',\n       '0 days 00:00:00', '0 days 00:00:00', '0 days 00:00:00',\n       '0 days 00:00:00', '0 days 00:00:00', '0 days 00:00:00',\n       '0 days 00:00:00', '0 days 00:00:00', '0 days 00:00:00',\n       '0 days 00:00:00', '0 days 00:00:00', '0 days 00:00:00',\n       '0 days 00:00:00', '0 days 00:00:00', '0 days 00:00:00',\n       '0 days 00:00:00', '0 days 00:00:00', '0 days 00:00:00',\n       '0 days 00:00:00', '0 days 00:00:00', '0 days 00:00:00',\n       '0 days 00:00:00', '0 days 00:00:00', '0 days 00:00:00',\n       '0 days 00:00:00', '0 days 00:00:00', '0 days 00:00:00',\n       '0 days 00:00:00', '0 days 00:00:00', '0 days 00:00:00',\n       '0 days 00:00:00', '0 days 00:00:00', '0 days 00:00:00',\n       '0 days 00:00:00', '0 days 00:00:00', '0 days 00:00:00',\n       '0 days 00:00:00', '0 days 00:00:00', '0 days 00:00:00',\n       '0 days 00:00:00', '0 days 00:00:00', '0 days 00:00:00',\n       '0 days 00:00:00', '0 days 00:00:00', '0 days 00:00:00',\n       '0 days 00:00:00', '0 days 00:00:00', '0 days 00:00:00',\n       '0 days 00:00:00', '0 days 00:00:00', '0 days 00:00:00',\n       '0 days 00:00:00', '0 days 00:00:00', '0 days 00:00:00',\n       '0 days 00:00:00', '0 days 00:00:00', '0 days 00:00:00',\n       '0 days 00:00:00', '0 days 00:00:00', '0 days 00:00:00',\n       '0 days 00:00:00', '0 days 00:00:00', '0 days 00:00:00',\n       '0 days 00:00:00', '0 days 00:00:00', '0 days 00:00:00',\n       '0 days 00:00:00', '0 days 00:00:00', '0 days 00:00:00',\n       '0 days 00:00:00', '0 days 00:00:00', '0 days 00:00:00'],\n      dtype=object)"
     },
     "execution_count": 5,
     "metadata": {},
     "output_type": "execute_result"
    }
   ],
   "source": [
    "## Best Exit Model\n",
    "bestexitX = data[['Last Price_all', 'short_window_all', 'long_window_all']]\n",
    "bestexity = data['exitdiff']\n",
    "\n",
    "# Generate the X_train and y_train DataFrames\n",
    "bestexitX_train = bestexitX[:1000]\n",
    "bestexity_train = bestexity[:1000]\n",
    "\n",
    "# Generate the X_test and y_test DataFrames\n",
    "bestexitX_test = bestexitX[1000:]\n",
    "bestexity_test = bestexity[1000:]\n",
    "\n",
    "# Create a StandardScaler instance\n",
    "scaler = StandardScaler()\n",
    "\n",
    "# Apply the scaler model to fit the X-train data\n",
    "bestexitX_scaler = scaler.fit(bestexitX_train)\n",
    "\n",
    "# Transform the X_train and X_test DataFrames using the X_scaler\n",
    "bestexitX_train_scaled = bestexitX_scaler.transform(bestexitX_train)\n",
    "bestexitX_test_scaled = bestexitX_scaler.transform(bestexitX_test)\n",
    "\n",
    "bestexitsvm_model = svm.SVC()\n",
    "\n",
    "# Fit the model to the data using the training data\n",
    "bestexitsvm_model = bestexitsvm_model.fit(bestexitX_train_scaled, bestexity_train)\n",
    "\n",
    "# Use the testing data to make the model predictions\n",
    "bestexitsvm_pred = bestexitsvm_model.predict(bestexitX_test_scaled)\n",
    "\n",
    "# Review the model's predicted values\n",
    "bestexitsvm_pred"
   ],
   "metadata": {
    "collapsed": false,
    "pycharm": {
     "name": "#%%\n"
    }
   }
  },
  {
   "cell_type": "code",
   "execution_count": 6,
   "outputs": [
    {
     "name": "stdout",
     "output_type": "stream",
     "text": [
      "                 precision    recall  f1-score   support\n",
      "\n",
      "0 days 00:00:00       0.37      1.00      0.54        70\n",
      "0 days 00:30:00       0.00      0.00      0.00        33\n",
      "0 days 01:00:00       0.00      0.00      0.00        25\n",
      "0 days 01:30:00       0.00      0.00      0.00        18\n",
      "0 days 02:00:00       0.00      0.00      0.00         9\n",
      "0 days 02:30:00       0.00      0.00      0.00        11\n",
      "0 days 03:00:00       0.00      0.00      0.00         8\n",
      "0 days 03:30:00       0.00      0.00      0.00         4\n",
      "0 days 04:30:00       0.00      0.00      0.00         1\n",
      "0 days 05:00:00       0.00      0.00      0.00         2\n",
      "0 days 05:30:00       0.00      0.00      0.00         3\n",
      "0 days 06:00:00       0.00      0.00      0.00         1\n",
      "0 days 06:30:00       0.00      0.00      0.00         2\n",
      "0 days 09:00:00       0.00      0.00      0.00         1\n",
      "0 days 10:30:00       0.00      0.00      0.00         1\n",
      "\n",
      "       accuracy                           0.37       189\n",
      "      macro avg       0.02      0.07      0.04       189\n",
      "   weighted avg       0.14      0.37      0.20       189\n",
      "\n"
     ]
    }
   ],
   "source": [
    "bestexitsvm_testing_report = classification_report(bestexity_test, bestexitsvm_pred)\n",
    "print(bestexitsvm_testing_report) ## Classification report for best exit"
   ],
   "metadata": {
    "collapsed": false,
    "pycharm": {
     "name": "#%%\n"
    }
   }
  }
 ],
 "metadata": {
  "kernelspec": {
   "display_name": "Python 3",
   "language": "python",
   "name": "python3"
  },
  "language_info": {
   "codemirror_mode": {
    "name": "ipython",
    "version": 2
   },
   "file_extension": ".py",
   "mimetype": "text/x-python",
   "name": "python",
   "nbconvert_exporter": "python",
   "pygments_lexer": "ipython2",
   "version": "2.7.6"
  }
 },
 "nbformat": 4,
 "nbformat_minor": 0
}