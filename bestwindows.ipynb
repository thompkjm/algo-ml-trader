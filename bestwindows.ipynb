{
 "cells": [
  {
   "cell_type": "code",
   "execution_count": 2,
   "metadata": {
    "collapsed": true,
    "pycharm": {
     "name": "#%%\n"
    }
   },
   "outputs": [],
   "source": [
    "import pandas as pd"
   ]
  },
  {
   "cell_type": "code",
   "execution_count": 3,
   "outputs": [
    {
     "data": {
      "text/plain": "       Small  Big  Profit\n0          1    2  0.8537\n1          1    3  1.0086\n2          1    4  1.0845\n3          1    5  1.0910\n4          1    6  1.1174\n...      ...  ...     ...\n24745     99  247  0.2849\n24746     99  248  0.2849\n24747     99  249  0.2838\n24748     99  250  0.2841\n24749     99  251  0.2831\n\n[24750 rows x 3 columns]",
      "text/html": "<div>\n<style scoped>\n    .dataframe tbody tr th:only-of-type {\n        vertical-align: middle;\n    }\n\n    .dataframe tbody tr th {\n        vertical-align: top;\n    }\n\n    .dataframe thead th {\n        text-align: right;\n    }\n</style>\n<table border=\"1\" class=\"dataframe\">\n  <thead>\n    <tr style=\"text-align: right;\">\n      <th></th>\n      <th>Small</th>\n      <th>Big</th>\n      <th>Profit</th>\n    </tr>\n  </thead>\n  <tbody>\n    <tr>\n      <th>0</th>\n      <td>1</td>\n      <td>2</td>\n      <td>0.8537</td>\n    </tr>\n    <tr>\n      <th>1</th>\n      <td>1</td>\n      <td>3</td>\n      <td>1.0086</td>\n    </tr>\n    <tr>\n      <th>2</th>\n      <td>1</td>\n      <td>4</td>\n      <td>1.0845</td>\n    </tr>\n    <tr>\n      <th>3</th>\n      <td>1</td>\n      <td>5</td>\n      <td>1.0910</td>\n    </tr>\n    <tr>\n      <th>4</th>\n      <td>1</td>\n      <td>6</td>\n      <td>1.1174</td>\n    </tr>\n    <tr>\n      <th>...</th>\n      <td>...</td>\n      <td>...</td>\n      <td>...</td>\n    </tr>\n    <tr>\n      <th>24745</th>\n      <td>99</td>\n      <td>247</td>\n      <td>0.2849</td>\n    </tr>\n    <tr>\n      <th>24746</th>\n      <td>99</td>\n      <td>248</td>\n      <td>0.2849</td>\n    </tr>\n    <tr>\n      <th>24747</th>\n      <td>99</td>\n      <td>249</td>\n      <td>0.2838</td>\n    </tr>\n    <tr>\n      <th>24748</th>\n      <td>99</td>\n      <td>250</td>\n      <td>0.2841</td>\n    </tr>\n    <tr>\n      <th>24749</th>\n      <td>99</td>\n      <td>251</td>\n      <td>0.2831</td>\n    </tr>\n  </tbody>\n</table>\n<p>24750 rows × 3 columns</p>\n</div>"
     },
     "execution_count": 3,
     "metadata": {},
     "output_type": "execute_result"
    }
   ],
   "source": [
    "data=pd.read_csv('results.csv',index_col=0) ## Dataframe for profits for all small and big windows\n",
    "data"
   ],
   "metadata": {
    "collapsed": false,
    "pycharm": {
     "name": "#%%\n"
    }
   }
  },
  {
   "cell_type": "code",
   "execution_count": 50,
   "outputs": [
    {
     "data": {
      "text/plain": "Small     1.0000\nBig       6.0000\nProfit    1.1174\nName: 4, dtype: float64"
     },
     "execution_count": 50,
     "metadata": {},
     "output_type": "execute_result"
    }
   ],
   "source": [
    "bestwindows=data.loc[data['Profit'].idxmax()] ## Dataframe with the most profitable windows\n",
    "bestwindows"
   ],
   "metadata": {
    "collapsed": false,
    "pycharm": {
     "name": "#%%\n"
    }
   }
  }
 ],
 "metadata": {
  "kernelspec": {
   "display_name": "Python 3",
   "language": "python",
   "name": "python3"
  },
  "language_info": {
   "codemirror_mode": {
    "name": "ipython",
    "version": 2
   },
   "file_extension": ".py",
   "mimetype": "text/x-python",
   "name": "python",
   "nbconvert_exporter": "python",
   "pygments_lexer": "ipython2",
   "version": "2.7.6"
  }
 },
 "nbformat": 4,
 "nbformat_minor": 0
}